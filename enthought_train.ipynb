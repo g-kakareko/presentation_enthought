{
 "cells": [
  {
   "cell_type": "code",
   "execution_count": 1,
   "metadata": {},
   "outputs": [
    {
     "name": "stderr",
     "output_type": "stream",
     "text": [
      "Using TensorFlow backend.\n"
     ]
    }
   ],
   "source": [
    "# Grzegorz Kakareko\n",
    "# Florida State University\n",
    "# College of Engineering\n",
    "# 2525 Pottsdamer Street, Tallahassee, FL 32310\n",
    "# Email: gk15b@my.fsu.edu - Phone: +1-850-570-4683\n",
    "# import os\n",
    "# os.environ['TF_CPP_MIN_LOG_LEVEL'] = '3' \n",
    "from tensorflow.python.framework import ops\n",
    "ops.reset_default_graph()\n",
    "\n",
    "from keras.preprocessing.image import ImageDataGenerator, array_to_img, img_to_array, load_img\n",
    "from keras.preprocessing.image import ImageDataGenerator\n",
    "from keras.models import Sequential\n",
    "from keras.layers import Conv2D, MaxPooling2D\n",
    "from keras.layers import Activation, Dropout, Flatten, Dense\n",
    "import numpy as np\n",
    "import matplotlib.pyplot as plt\n",
    "from keras import backend as K"
   ]
  },
  {
   "cell_type": "code",
   "execution_count": 2,
   "metadata": {},
   "outputs": [],
   "source": [
    "# Network for the Tree, Ntree recognition\n",
    "img_width, img_height = 76, 76\n",
    "\n",
    "train_data_dir = 'Data/train'\n",
    "validation_data_dir = 'Data/val'\n",
    "nb_train_samples = 2000\n",
    "nb_validation_samples = 800\n",
    "epochs = 100\n",
    "batch_size = 16\n",
    "\n",
    "if K.image_data_format() == 'channels_first':\n",
    "    input_shape = (3, img_width, img_height)\n",
    "else:\n",
    "    input_shape = (img_width, img_height, 3)\n",
    "\n",
    "model = Sequential()\n",
    "model.add(Conv2D(32, (3, 3), input_shape=input_shape))\n",
    "model.add(Activation('relu'))\n",
    "model.add(MaxPooling2D(pool_size=(2, 2)))\n",
    "\n",
    "model.add(Conv2D(32, (3, 3)))\n",
    "model.add(Activation('relu'))\n",
    "model.add(MaxPooling2D(pool_size=(2, 2)))\n",
    "\n",
    "model.add(Conv2D(64, (3, 3)))\n",
    "model.add(Activation('relu'))\n",
    "model.add(MaxPooling2D(pool_size=(2, 2)))\n",
    "\n",
    "model.add(Flatten())\n",
    "model.add(Dense(64))\n",
    "model.add(Activation('relu'))\n",
    "model.add(Dropout(0.5))\n",
    "model.add(Dense(1))\n",
    "model.add(Activation('sigmoid'))\n",
    "\n",
    "model.compile(loss='binary_crossentropy',\n",
    "              optimizer='rmsprop',\n",
    "              metrics=['accuracy'])"
   ]
  },
  {
   "cell_type": "code",
   "execution_count": 3,
   "metadata": {},
   "outputs": [
    {
     "name": "stdout",
     "output_type": "stream",
     "text": [
      "Found 7800 images belonging to 2 classes.\n",
      "Found 861 images belonging to 2 classes.\n"
     ]
    }
   ],
   "source": [
    "# this is the augmentation configuration we will use for training\n",
    "train_datagen = ImageDataGenerator(\n",
    "    rescale=1. / 255,\n",
    "    shear_range=0.2,\n",
    "    zoom_range=0.2,\n",
    "    horizontal_flip=True)\n",
    "\n",
    "# this is the augmentation configuration we will use for testing:\n",
    "# only rescaling\n",
    "test_datagen = ImageDataGenerator(rescale=1. / 255)\n",
    "\n",
    "train_generator = train_datagen.flow_from_directory(\n",
    "    train_data_dir,\n",
    "    target_size=(img_width, img_height),\n",
    "    batch_size=batch_size,\n",
    "    class_mode='binary')\n",
    "\n",
    "validation_generator = test_datagen.flow_from_directory(\n",
    "    validation_data_dir,\n",
    "    target_size=(img_width, img_height),\n",
    "    batch_size=batch_size,\n",
    "    class_mode='binary')"
   ]
  },
  {
   "cell_type": "code",
   "execution_count": 9,
   "metadata": {},
   "outputs": [
    {
     "name": "stdout",
     "output_type": "stream",
     "text": [
      "Found 7800 images belonging to 2 classes.\n",
      "Found 861 images belonging to 2 classes.\n",
      "Epoch 1/30\n",
      "15/15 [==============================] - 11s 716ms/step - loss: 0.1254 - accuracy: 0.9615 - val_loss: 0.0619 - val_accuracy: 0.9701\n",
      "Epoch 2/30\n",
      "15/15 [==============================] - 11s 730ms/step - loss: 0.1461 - accuracy: 0.9419 - val_loss: 0.0456 - val_accuracy: 0.9768\n",
      "Epoch 3/30\n",
      "15/15 [==============================] - 11s 704ms/step - loss: 0.1251 - accuracy: 0.9505 - val_loss: 0.0767 - val_accuracy: 0.9741\n",
      "Epoch 4/30\n",
      "15/15 [==============================] - 10s 641ms/step - loss: 0.1403 - accuracy: 0.9479 - val_loss: 0.1767 - val_accuracy: 0.9523\n",
      "Epoch 5/30\n",
      "15/15 [==============================] - 11s 718ms/step - loss: 0.1172 - accuracy: 0.9526 - val_loss: 0.0416 - val_accuracy: 0.9795\n",
      "Epoch 6/30\n",
      "15/15 [==============================] - 12s 801ms/step - loss: 0.1230 - accuracy: 0.9571 - val_loss: 0.1719 - val_accuracy: 0.9618\n",
      "Epoch 7/30\n",
      "15/15 [==============================] - 13s 839ms/step - loss: 0.1245 - accuracy: 0.9589 - val_loss: 0.0162 - val_accuracy: 0.9809\n",
      "Epoch 8/30\n",
      "15/15 [==============================] - 13s 872ms/step - loss: 0.1276 - accuracy: 0.9568 - val_loss: 0.0794 - val_accuracy: 0.9779\n",
      "Epoch 9/30\n",
      "15/15 [==============================] - 13s 881ms/step - loss: 0.1166 - accuracy: 0.9552 - val_loss: 0.0421 - val_accuracy: 0.9809\n",
      "Epoch 10/30\n",
      "15/15 [==============================] - 14s 906ms/step - loss: 0.1085 - accuracy: 0.9531 - val_loss: 0.0976 - val_accuracy: 0.9536\n",
      "Epoch 11/30\n",
      "15/15 [==============================] - 12s 797ms/step - loss: 0.1155 - accuracy: 0.9521 - val_loss: 0.0775 - val_accuracy: 0.9659\n",
      "Epoch 12/30\n",
      "15/15 [==============================] - 10s 676ms/step - loss: 0.1143 - accuracy: 0.9603 - val_loss: 0.0218 - val_accuracy: 0.9823\n",
      "Epoch 13/30\n",
      "15/15 [==============================] - 10s 691ms/step - loss: 0.1005 - accuracy: 0.9620 - val_loss: 0.0821 - val_accuracy: 0.9714\n",
      "Epoch 14/30\n",
      "15/15 [==============================] - 10s 670ms/step - loss: 0.1291 - accuracy: 0.9516 - val_loss: 0.0586 - val_accuracy: 0.9795\n",
      "Epoch 15/30\n",
      "15/15 [==============================] - 10s 680ms/step - loss: 0.1169 - accuracy: 0.9561 - val_loss: 0.0554 - val_accuracy: 0.9766\n",
      "Epoch 16/30\n",
      "15/15 [==============================] - 10s 673ms/step - loss: 0.0930 - accuracy: 0.9714 - val_loss: 0.0119 - val_accuracy: 0.9809\n",
      "Epoch 17/30\n",
      "15/15 [==============================] - 10s 680ms/step - loss: 0.1177 - accuracy: 0.9589 - val_loss: 0.0129 - val_accuracy: 0.9905\n",
      "Epoch 18/30\n",
      "15/15 [==============================] - 10s 669ms/step - loss: 0.0908 - accuracy: 0.9712 - val_loss: 0.0193 - val_accuracy: 0.9823\n",
      "Epoch 19/30\n",
      "15/15 [==============================] - 10s 691ms/step - loss: 0.1022 - accuracy: 0.9667 - val_loss: 0.0578 - val_accuracy: 0.9727\n",
      "Epoch 20/30\n",
      "15/15 [==============================] - 10s 674ms/step - loss: 0.0954 - accuracy: 0.9651 - val_loss: 0.0180 - val_accuracy: 0.9891\n",
      "Epoch 21/30\n",
      "15/15 [==============================] - 10s 674ms/step - loss: 0.1036 - accuracy: 0.9656 - val_loss: 0.0545 - val_accuracy: 0.9836\n",
      "Epoch 22/30\n",
      "15/15 [==============================] - 11s 717ms/step - loss: 0.0903 - accuracy: 0.9655 - val_loss: 0.1055 - val_accuracy: 0.9609\n",
      "Epoch 23/30\n",
      "15/15 [==============================] - 10s 669ms/step - loss: 0.0935 - accuracy: 0.9672 - val_loss: 0.0310 - val_accuracy: 0.9850\n",
      "Epoch 24/30\n",
      "15/15 [==============================] - 10s 678ms/step - loss: 0.0893 - accuracy: 0.9667 - val_loss: 0.0569 - val_accuracy: 0.9823\n",
      "Epoch 25/30\n",
      "15/15 [==============================] - 10s 692ms/step - loss: 0.1044 - accuracy: 0.9609 - val_loss: 0.0333 - val_accuracy: 0.9741\n",
      "Epoch 26/30\n",
      "15/15 [==============================] - 10s 658ms/step - loss: 0.1143 - accuracy: 0.9639 - val_loss: 0.0537 - val_accuracy: 0.9782\n",
      "Epoch 27/30\n",
      "15/15 [==============================] - 10s 657ms/step - loss: 0.0886 - accuracy: 0.9688 - val_loss: 0.2425 - val_accuracy: 0.9277\n",
      "Epoch 28/30\n",
      "15/15 [==============================] - 10s 657ms/step - loss: 0.1010 - accuracy: 0.9589 - val_loss: 0.0898 - val_accuracy: 0.9700\n",
      "Epoch 29/30\n",
      "15/15 [==============================] - 10s 665ms/step - loss: 0.0850 - accuracy: 0.9714 - val_loss: 0.0339 - val_accuracy: 0.9844\n",
      "Epoch 30/30\n",
      "15/15 [==============================] - 10s 657ms/step - loss: 0.0858 - accuracy: 0.9703 - val_loss: 0.2732 - val_accuracy: 0.9222\n"
     ]
    }
   ],
   "source": [
    "epochs = 30\n",
    "batch_size = 128\n",
    "\n",
    "train_generator = train_datagen.flow_from_directory(\n",
    "    train_data_dir,\n",
    "    target_size=(img_width, img_height),\n",
    "    batch_size=batch_size,\n",
    "    class_mode='binary')\n",
    "\n",
    "validation_generator = test_datagen.flow_from_directory(\n",
    "    validation_data_dir,\n",
    "    target_size=(img_width, img_height),\n",
    "    batch_size=batch_size,\n",
    "    class_mode='binary')\n",
    "\n",
    "history = model.fit_generator(\n",
    "    train_generator,\n",
    "    steps_per_epoch=nb_train_samples // batch_size,\n",
    "    epochs=epochs,\n",
    "    validation_data=validation_generator,\n",
    "    validation_steps=nb_validation_samples // batch_size)"
   ]
  },
  {
   "cell_type": "code",
   "execution_count": 8,
   "metadata": {},
   "outputs": [
    {
     "data": {
      "image/png": "[encoded data removed]",
      "text/plain": [
       "<Figure size 432x288 with 1 Axes>"
      ]
     },
     "metadata": {
      "needs_background": "light"
     },
     "output_type": "display_data"
    },
    {
     "data": {
      "image/png": "[encoded data removed]",
      "text/plain": [
       "<Figure size 432x288 with 1 Axes>"
      ]
     },
     "metadata": {
      "needs_background": "light"
     },
     "output_type": "display_data"
    }
   ],
   "source": [
    "plt.plot(history.history['accuracy'])\n",
    "plt.plot(history.history['val_accuracy'])\n",
    "plt.title('model accuracy')\n",
    "plt.ylabel('accuracy')\n",
    "plt.xlabel('epoch')\n",
    "plt.legend(['train', 'test'], loc='lower left')\n",
    "plt.ylim(0.8,1) \n",
    "plt.savefig('accuracy_net1.jpg')\n",
    "plt.show()\n",
    "\n",
    "plt.plot(history.history['loss'])\n",
    "plt.plot(history.history['val_loss'])\n",
    "plt.title('model loss')\n",
    "plt.ylabel('loss')\n",
    "plt.xlabel('epoch')\n",
    "plt.ylim(0,0.4) \n",
    "plt.legend(['train', 'test'], loc='upper left')\n",
    "plt.savefig('loss_net1.jpg')\n",
    "plt.show()"
   ]
  },
  {
   "cell_type": "code",
   "execution_count": null,
   "metadata": {},
   "outputs": [],
   "source": [
    "model_json = model.to_json()\n",
    "with open(\"model_2.json\", \"w\") as json_file:\n",
    "    json_file.write(model_json)\n",
    "model.save_weights(\"model_2.h5\")"
   ]
  }
 ],
 "metadata": {
  "kernelspec": {
   "display_name": "Python 3",
   "language": "python",
   "name": "python3"
  },
  "language_info": {
   "codemirror_mode": {
    "name": "ipython",
    "version": 3
   },
   "file_extension": ".py",
   "mimetype": "text/x-python",
   "name": "python",
   "nbconvert_exporter": "python",
   "pygments_lexer": "ipython3",
   "version": "3.6.8"
  }
 },
 "nbformat": 4,
 "nbformat_minor": 4
}
